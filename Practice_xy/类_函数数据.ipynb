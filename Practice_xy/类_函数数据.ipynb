{
 "cells": [
  {
   "cell_type": "code",
   "execution_count": 11,
   "metadata": {},
   "outputs": [
    {
     "name": "stdout",
     "output_type": "stream",
     "text": [
      "My dog's name is Willie.\n",
      "My dog is 6 years old.\n"
     ]
    },
    {
     "data": {
      "text/plain": [
       "'创建 Dog 实例时，Python将调用 Dog 类的方法 __init__() 。我们将通过实参向 Dog() 传递名字和\\n年龄； self 会自动传递，因此我们不需要传递它。每当我们根据 Dog 类创建实例时，都只需给最\\n后两个形参（ name 和 age ）提供值'"
      ]
     },
     "execution_count": 11,
     "metadata": {},
     "output_type": "execute_result"
    }
   ],
   "source": [
    "class Dog:\n",
    "    \"\"\"一次模拟小狗的简单尝试\"\"\"\n",
    "    \n",
    "    def __init__(self, name, age):\n",
    "        \"\"\"初始化属性name和age\"\"\"\n",
    "        self.name = name\n",
    "        self.age = age#起返回作用自返回\n",
    "        \n",
    "    def sit(self):\n",
    "        \"\"\"模拟小狗被命令时蹲下\"\"\"\n",
    "        print(self.name.title() + \" is now sitting.\")\n",
    "        \n",
    "    def roll_over(self):\n",
    "        \"\"\"模拟小狗被命令时打滚\"\"\"\n",
    "        print(self.name.title() + \" rolled over!\")\n",
    "\n",
    "my_dog = Dog('willie', 6)\n",
    "print(\"My dog's name is \" + my_dog.name.title() + \".\")\n",
    "print(\"My dog is \" + str(my_dog.age) + \" years old.\")\n",
    "\n",
    "#在Python中，首字母大写的名称指的是类\n",
    "'''创建 Dog 实例时，Python将调用 Dog 类的方法 __init__() 。我们将通过实参向 Dog() 传递名字和\n",
    "年龄； self 会自动传递，因此我们不需要传递它。每当我们根据 Dog 类创建实例时，都只需给最\n",
    "后两个形参（ name 和 age ）提供值'''\n",
    "#白马非马的辩论\n"
   ]
  },
  {
   "cell_type": "code",
   "execution_count": 12,
   "metadata": {},
   "outputs": [
    {
     "name": "stdout",
     "output_type": "stream",
     "text": [
      "Willie is now sitting.\n",
      "Willie rolled over!\n"
     ]
    }
   ],
   "source": [
    "'''方法\n",
    "__init__() 并未显式地包含 return 语句，但Python自动返回一个表示这条小狗的实例。我们将这\n",
    "个实例存储在变量 my_dog 中。在这里，命名约定很有用：我们通常可以认为首字母大写的名称（如\n",
    "Dog ）指的是类，而小写的名称（如 my_dog ）指的是根据类创建的实例。'''\n",
    "my_dog.sit()\n",
    "my_dog.roll_over()\n",
    "#要调用方法，可指定实例的名称（这里是 my_dog ）和要调用的方法，并用句点分隔它们。遇\n",
    "#到代码 my_dog.sit() 时，Python在类 Dog 中查找方法 sit() 并运行其代码。\n"
   ]
  },
  {
   "cell_type": "code",
   "execution_count": 13,
   "metadata": {},
   "outputs": [
    {
     "name": "stdout",
     "output_type": "stream",
     "text": [
      "Restaurant Name: Pizza Hut\n",
      "Cuisine Type: Italian\n",
      "Restaurant Name: Pizza Hut\n",
      "Cuisine Type: Italian\n",
      "The restaurant is now open.\n"
     ]
    }
   ],
   "source": [
    "class Restaurant:\n",
    "    def __init__(self, restaurant_name, cuisine_type):\n",
    "        self.restaurant_name = restaurant_name\n",
    "        self.cuisine_type = cuisine_type\n",
    "\n",
    "    def describe_restaurant(self):\n",
    "        print(\"Restaurant Name:\", self.restaurant_name)\n",
    "        print(\"Cuisine Type:\", self.cuisine_type)\n",
    "\n",
    "    def open_restaurant(self):\n",
    "        print(\"The restaurant is now open.\")\n",
    "\n",
    "restaurant = Restaurant(\"Pizza Hut\", \"Italian\")\n",
    "print(\"Restaurant Name:\", restaurant.restaurant_name)\n",
    "print(\"Cuisine Type:\", restaurant.cuisine_type)\n",
    "\n",
    "restaurant.describe_restaurant()\n",
    "restaurant.open_restaurant()\n"
   ]
  },
  {
   "cell_type": "code",
   "execution_count": 14,
   "metadata": {},
   "outputs": [
    {
     "name": "stdout",
     "output_type": "stream",
     "text": [
      "User Information:\n",
      "First Name: John\n",
      "Last Name: Doe\n",
      "Age: 25\n",
      "Occupation: Engineer\n",
      "Hello, John ! Welcome back.\n",
      "User Information:\n",
      "First Name: Jane\n",
      "Last Name: Smith\n",
      "Age: 30\n",
      "Occupation: Doctor\n",
      "Hello, Jane ! Welcome back.\n"
     ]
    }
   ],
   "source": [
    "class User:\n",
    "    def __init__(self, first_name, last_name, age, occupation):\n",
    "        self.first_name = first_name\n",
    "        self.last_name = last_name\n",
    "        self.age = age\n",
    "        self.occupation = occupation\n",
    "\n",
    "    def describe_user(self):\n",
    "        print(\"User Information:\")\n",
    "        print(\"First Name:\", self.first_name)\n",
    "        print(\"Last Name:\", self.last_name)\n",
    "        print(\"Age:\", self.age)\n",
    "        print(\"Occupation:\", self.occupation)#名称字符串重复描述一遍\n",
    "\n",
    "    def greet_user(self):\n",
    "        print(\"Hello,\", self.first_name, \"! Welcome back.\")\n",
    "\n",
    "user1 = User(\"John\", \"Doe\", 25, \"Engineer\")#抽象到具体\n",
    "user2 = User(\"Jane\", \"Smith\", 30, \"Doctor\")\n",
    "\n",
    "user1.describe_user()\n",
    "user1.greet_user()\n",
    "\n",
    "user2.describe_user()\n",
    "user2.greet_user()\n"
   ]
  },
  {
   "cell_type": "code",
   "execution_count": null,
   "metadata": {},
   "outputs": [],
   "source": [
    "#修改属性的值my_new_car.odometer_reading = 23\n",
    "#my_new_car.read_odometer()\n",
    "# 通过方法修改属性的值def update_odometer(self, mileage):\n",
    "\"\"\"将里程表读数设置为指定的值\"\"\"\n",
    "#self.odometer_reading = mileage添加了方法 update_odometer() 。这个方法接受一个里程值，\n",
    "#并将其存储到 self.odometer_reading 中\n",
    "# 通过方法对属性的值进行递增def increment_odometer(self, miles):\n",
    "\"\"\"将里程表读数增加指定的量\"\"\"\n",
    "#self.odometer_reading += miles"
   ]
  },
  {
   "cell_type": "code",
   "execution_count": null,
   "metadata": {},
   "outputs": [],
   "source": [
    "'''你必须熟悉有些与类相关的编码风格问题，在你编写的程序较复杂时尤其如此。\n",
    "类名应采用驼峰命名法，即将类名中的每个单词的首字母都大写，而不使用下划线。实例名\n",
    "和模块名都采用小写格式，并在单词之间加上下划线。\n",
    "对于每个类，都应紧跟在类定义后面包含一个文档字符串。这种文档字符串简要地描述类的\n",
    "功能，并遵循编写函数的文档字符串时采用的格式约定。每个模块也都应包含一个文档字符串，\n",
    "对其中的类可用于做什么进行描述。\n",
    "可使用空行来组织代码，但不要滥用。在类中，可使用一个空行来分隔方法；而在模块中，\n",
    "可使用两个空行来分隔类。\n",
    "需要同时导入标准库中的模块和你编写的模块时，先编写导入标准库模块的 import 语句，再\n",
    "添加一个空行，然后编写导入你自己编写的模块的 import 语句。在包含多条 import 语句的程序中，\n",
    "这种做法让人更容易明白程序使用的各个模块都来自何方。'''"
   ]
  },
  {
   "cell_type": "code",
   "execution_count": null,
   "metadata": {},
   "outputs": [],
   "source": [
    "'''在本章中，你学习了：如何编写类；如何使用属性在类中存储信息，以及如何编写方法，以\n",
    "让类具备所需的行为；如何编写方法 __init__() ，以便根据类创建包含所需属性的实例。你见识\n",
    "了如何修改实例的属性——包括直接修改以及通过方法进行修改。你还了解了：使用继承可简化\n",
    "相关类的创建工作；将一个类的实例用作另一个类的属性可让类更简洁。\n",
    "你了解到，通过将类存储在模块中，并在需要使用这些类的文件中导入它们，可让项目组织\n",
    "有序。你学习了Python标准库，并见识了一个使用模块 collections 中的 OrderedDict 类的示例。\n",
    "最后，你学习了编写类时应遵循的Python约定。'''"
   ]
  },
  {
   "cell_type": "code",
   "execution_count": null,
   "metadata": {},
   "outputs": [],
   "source": [
    "#类太难学习了，以后操作再来补充"
   ]
  },
  {
   "cell_type": "code",
   "execution_count": null,
   "metadata": {},
   "outputs": [],
   "source": []
  },
  {
   "cell_type": "code",
   "execution_count": null,
   "metadata": {},
   "outputs": [],
   "source": []
  },
  {
   "cell_type": "code",
   "execution_count": null,
   "metadata": {},
   "outputs": [],
   "source": []
  },
  {
   "cell_type": "code",
   "execution_count": null,
   "metadata": {},
   "outputs": [],
   "source": []
  },
  {
   "cell_type": "code",
   "execution_count": null,
   "metadata": {},
   "outputs": [],
   "source": []
  },
  {
   "cell_type": "code",
   "execution_count": null,
   "metadata": {},
   "outputs": [],
   "source": []
  },
  {
   "cell_type": "code",
   "execution_count": null,
   "metadata": {},
   "outputs": [],
   "source": []
  },
  {
   "cell_type": "code",
   "execution_count": null,
   "metadata": {},
   "outputs": [],
   "source": []
  },
  {
   "cell_type": "code",
   "execution_count": null,
   "metadata": {},
   "outputs": [],
   "source": []
  }
 ],
 "metadata": {
  "kernelspec": {
   "display_name": "Python 3",
   "language": "python",
   "name": "python3"
  },
  "language_info": {
   "codemirror_mode": {
    "name": "ipython",
    "version": 3
   },
   "file_extension": ".py",
   "mimetype": "text/x-python",
   "name": "python",
   "nbconvert_exporter": "python",
   "pygments_lexer": "ipython3",
   "version": "3.9.0b4"
  },
  "orig_nbformat": 4
 },
 "nbformat": 4,
 "nbformat_minor": 2
}
