{
 "cells": [
  {
   "cell_type": "code",
   "execution_count": 2,
   "metadata": {},
   "outputs": [
    {
     "name": "stdout",
     "output_type": "stream",
     "text": [
      "Hello!\n"
     ]
    }
   ],
   "source": [
    "def greet_user():\n",
    "    print(\"Hello!\")\n",
    "greet_user()"
   ]
  },
  {
   "cell_type": "code",
   "execution_count": 16,
   "metadata": {},
   "outputs": [
    {
     "name": "stdout",
     "output_type": "stream",
     "text": [
      "Hello, 3!\n"
     ]
    }
   ],
   "source": [
    "def greet_user(use):\n",
    "    \"\"\" 显示简单的问候语 \"\"\"\n",
    "    print(\"Hello, \" + use.title() + \"!\")\n",
    "greet_user('3')"
   ]
  },
  {
   "cell_type": "code",
   "execution_count": 18,
   "metadata": {},
   "outputs": [
    {
     "name": "stdout",
     "output_type": "stream",
     "text": [
      " One of my favorite books is Sophia\n"
     ]
    }
   ],
   "source": [
    "def favorite_book(title):\n",
    "    print(' One of my favorite books is '+title.title())\n",
    "favorite_book('sophia')\n",
    "#鉴于函数定义中可能包含多个形参，因此函数调用中也可能包含多个实参。向函数传递实参\n",
    "#的方式很多，可使用位置实参，这要求实参的顺序与形参的顺序相同；也可使用关键字实参，其\n",
    "#中每个实参都由变量名和值组成；还可使用列表和字典。下面来依次介绍这些方式\n"
   ]
  },
  {
   "cell_type": "code",
   "execution_count": 21,
   "metadata": {},
   "outputs": [
    {
     "name": "stdout",
     "output_type": "stream",
     "text": [
      "\n",
      "I have a hamster.\n",
      "My hamster's name is Harry.\n",
      "\n",
      "I have a hamster.\n",
      "My hamster's name is Harry.\n"
     ]
    }
   ],
   "source": [
    "def describe_pet(animal_type, pet_name):\n",
    "    \"\"\"显示宠物的信息\"\"\"\n",
    "    print(\"\\nI have a \" + animal_type + \".\")\n",
    "    print(\"My \" + animal_type + \"'s name is \" + pet_name.title() + \".\")\n",
    "describe_pet('hamster', 'harry')#顺序一致\n",
    "describe_pet(animal_type='hamster', pet_name='harry')"
   ]
  },
  {
   "cell_type": "code",
   "execution_count": null,
   "metadata": {},
   "outputs": [],
   "source": [
    "#编写函数时，可给每个形参指定默认值。在调用函数中给形参提供了实参时，Python将使用\n",
    "#指定的实参值；否则，将使用形参的默认值。因此，给形参指定默认值后，可在函数调用中省略\n",
    "#相应的实参。使用默认值可简化函数调用，还可清楚地指出函数的典型用法。\n",
    "#使用默认值时，在形参列表中必须先列出没有默认值的形参，再列出有默认值的实参。\n",
    "#这让Python依然能够正确地解读位置实参。"
   ]
  },
  {
   "cell_type": "code",
   "execution_count": 22,
   "metadata": {},
   "outputs": [
    {
     "name": "stdout",
     "output_type": "stream",
     "text": [
      "Jimi Hendrix\n"
     ]
    }
   ],
   "source": [
    "#函数并非总是直接显示输出，相反，它可以处理一些数据，并返回一个或一组值。函数返回\n",
    "#的值被称为返回值。\n",
    "def get_formatted_name(first_name, last_name):\n",
    "    \"\"\"返回整洁的姓名\"\"\"\n",
    "    full_name = first_name + ' ' + last_name\n",
    "    return full_name.title()\n",
    "musician = get_formatted_name('jimi', 'hendrix')\n",
    "print(musician)#相当于对输出经过了无害处理，将原材料加工成工业品"
   ]
  },
  {
   "cell_type": "code",
   "execution_count": 23,
   "metadata": {},
   "outputs": [
    {
     "name": "stdout",
     "output_type": "stream",
     "text": [
      "John Lee Hooker\n"
     ]
    }
   ],
   "source": [
    "def get_formatted_name(first_name, middle_name, last_name):\n",
    "    \"\"\"返回整洁的姓名\"\"\"\n",
    "    full_name = first_name + ' ' + middle_name + ' ' + last_name\n",
    "    return full_name.title()\n",
    "musician = get_formatted_name('john', 'lee', 'hooker')\n",
    "print(musician)"
   ]
  },
  {
   "cell_type": "code",
   "execution_count": 24,
   "metadata": {},
   "outputs": [
    {
     "name": "stdout",
     "output_type": "stream",
     "text": [
      "Jimi Hendrix\n",
      "None\n"
     ]
    }
   ],
   "source": [
    "def get_formatted_name(first_name, last_name, middle_name=''):\n",
    "    \"\"\"返回整洁的姓名\"\"\"\n",
    "    if middle_name:#为让中间名变成可选的，可给实参 middle_name 指定一个默认值——空字符串\n",
    "        full_name = first_name + ' ' + middle_name + ' ' + last_name\n",
    "    else:\n",
    "        full_name = first_name + ' ' + last_name\n",
    "        return full_name.title()\n",
    "musician = get_formatted_name('jimi', 'hendrix')\n",
    "print(musician)\n",
    "musician = get_formatted_name('john', 'hooker', 'lee')\n",
    "print(musician)"
   ]
  },
  {
   "cell_type": "code",
   "execution_count": 1,
   "metadata": {},
   "outputs": [
    {
     "name": "stdout",
     "output_type": "stream",
     "text": [
      "{'first': 'jimi', 'last': 'hendrix'}\n"
     ]
    }
   ],
   "source": [
    "def build_person(first_name, last_name):\n",
    "    \"\"\"返回一个字典，其中包含有关一个人的信息\"\"\"\n",
    "    person = {'first': first_name, 'last': last_name}\n",
    "    return person\n",
    "musician = build_person('jimi', 'hendrix')#返回是给出函数值并存储\n",
    "print(musician)"
   ]
  },
  {
   "cell_type": "code",
   "execution_count": 9,
   "metadata": {},
   "outputs": [
    {
     "name": "stdout",
     "output_type": "stream",
     "text": [
      "tokyo,japan\n",
      "beijing,china\n",
      "paris,france\n"
     ]
    }
   ],
   "source": [
    "def city_country(c_name,b_name):\n",
    "    '''给出城市属于哪个国家'''\n",
    "    print(c_name+','+b_name)\n",
    "city_country('tokyo','japan')\n",
    "city_country('beijing','china')\n",
    "city_country('paris','france')"
   ]
  },
  {
   "cell_type": "code",
   "execution_count": 10,
   "metadata": {},
   "outputs": [
    {
     "name": "stdout",
     "output_type": "stream",
     "text": [
      "{'singer': 'Taylor Swift', 'album': 'Red'}\n",
      "{'singer': 'Ed Sheeran', 'album': '÷ (Divide)', 'songs': 16}\n",
      "{'singer': 'Beyoncé', 'album': 'Lemonade', 'songs': 12}\n"
     ]
    }
   ],
   "source": [
    "def make_album(singer_name, album_name, song_count=None):\n",
    "    album = {\n",
    "        'singer': singer_name,\n",
    "        'album': album_name,\n",
    "    }\n",
    "    if song_count is not None:\n",
    "        album['songs'] = song_count\n",
    "    return album\n",
    "\n",
    "# 创建三个表示不同专辑的字典，并打印每个返回的值\n",
    "album1 = make_album('Taylor Swift', 'Red')\n",
    "album2 = make_album('Ed Sheeran', '÷ (Divide)', 16)\n",
    "album3 = make_album('Beyoncé', 'Lemonade', 12)\n",
    "\n",
    "print(album1)\n",
    "print(album2)\n",
    "print(album3)\n"
   ]
  },
  {
   "cell_type": "code",
   "execution_count": null,
   "metadata": {},
   "outputs": [],
   "source": []
  },
  {
   "cell_type": "code",
   "execution_count": 12,
   "metadata": {},
   "outputs": [
    {
     "name": "stdout",
     "output_type": "stream",
     "text": [
      "请输入专辑信息（输入'q'退出）：\n"
     ]
    }
   ],
   "source": [
    "def make_album(singer_name, album_name, song_count=None):\n",
    "    album = {\n",
    "        'singer': singer_name,\n",
    "        'album': album_name,\n",
    "    }\n",
    "    if song_count is not None:\n",
    "        album['songs'] = song_count\n",
    "    return album\n",
    "\n",
    "while True:\n",
    "    print(\"请输入专辑信息（输入'q'退出）：\")\n",
    "    singer_name = input(\"歌手名字：\")\n",
    "    if singer_name.lower() == 'q':\n",
    "        break\n",
    "\n",
    "    album_name = input(\"专辑名字：\")\n",
    "    if album_name.lower() == 'q':\n",
    "        break\n",
    "\n",
    "    song_count = input(\"歌曲数（可选，按回车跳过）：\")\n",
    "    if song_count.lower() == 'q':\n",
    "        break\n",
    "    elif song_count.strip() == '':\n",
    "        album = make_album(singer_name, album_name)\n",
    "    else:\n",
    "        album = make_album(singer_name, album_name, int(song_count))\n",
    "\n",
    "    print(\"创建的专辑字典为：\")\n",
    "    print(album)\n"
   ]
  },
  {
   "cell_type": "code",
   "execution_count": 13,
   "metadata": {},
   "outputs": [
    {
     "name": "stdout",
     "output_type": "stream",
     "text": [
      "Hello, Hannah!\n",
      "Hello, Ty!\n",
      "Hello, Margot!\n"
     ]
    }
   ],
   "source": [
    "def greet_users(names):\n",
    "    \"\"\"向列表中的每位用户都发出简单的问候\"\"\"\n",
    "    for name in names:\n",
    "        msg = \"Hello, \" + name.title() + \"!\"\n",
    "        print(msg)\n",
    "usernames = ['hannah', 'ty', 'margot']\n",
    "greet_users(usernames)\n",
    "#使用函数来提高处理列表\n",
    "#的效率。"
   ]
  },
  {
   "cell_type": "code",
   "execution_count": 14,
   "metadata": {},
   "outputs": [
    {
     "name": "stdout",
     "output_type": "stream",
     "text": [
      "Printing model: dodecahedron\n",
      "Printing model: robot pendant\n",
      "Printing model: iphone case\n",
      "\n",
      "The following models have been printed:\n",
      "dodecahedron\n",
      "robot pendant\n",
      "iphone case\n"
     ]
    }
   ],
   "source": [
    "# 首先创建一个列表，其中包含一些要打印的设计\n",
    "unprinted_designs = ['iphone case', 'robot pendant', 'dodecahedron']\n",
    "completed_models = []\n",
    "# 模拟打印每个设计，直到没有未打印的设计为止\n",
    "# 打印每个设计后，都将其移到列表completed_models中\n",
    "while unprinted_designs:\n",
    "    current_design = unprinted_designs.pop()\n",
    "#模拟根据设计制作3D打印模型的过程\n",
    "    print(\"Printing model: \" + current_design)\n",
    "    completed_models.append(current_design)\n",
    "# 显示打印好的所有模型\n",
    "print(\"\\nThe following models have been printed:\")\n",
    "for completed_model in completed_models:\n",
    "    print(completed_model)"
   ]
  },
  {
   "cell_type": "code",
   "execution_count": 18,
   "metadata": {},
   "outputs": [
    {
     "name": "stdout",
     "output_type": "stream",
     "text": [
      "Printing model: dodecahedron\n",
      "Printing model: robot pendant\n",
      "Printing model: iphone case\n",
      "\n",
      "The following models have been printed:\n",
      "dodecahedron\n",
      "robot pendant\n",
      "iphone case\n"
     ]
    }
   ],
   "source": [
    "def print_models(unprinted_designs, completed_models):\n",
    "    \"\"\"模拟打印每个设计，直到没有未打印的设计为止打印每个设计后，都将其移到列表completed_models中\"\"\"\n",
    "    while unprinted_designs:\n",
    "        current_design = unprinted_designs.pop()\n",
    "# 模拟根据设计制作3D打印模型的过程\n",
    "        print(\"Printing model: \" + current_design)\n",
    "        completed_models.append(current_design)\n",
    "def show_completed_models(completed_models):\n",
    "    \"\"\"显示打印好的所有模型\"\"\"\n",
    "    print(\"\\nThe following models have been printed:\")\n",
    "    for completed_model in completed_models:\n",
    "        print(completed_model)\n",
    "unprinted_designs = ['iphone case', 'robot pendant', 'dodecahedron']\n",
    "completed_models = []\n",
    "print_models(unprinted_designs, completed_models)\n",
    "show_completed_models(completed_models)"
   ]
  },
  {
   "cell_type": "code",
   "execution_count": null,
   "metadata": {},
   "outputs": [],
   "source": [
    "#这个程序还演示了这样一种理念，即每个函数都应只负责一项具体的工作\n",
    "#编写函数时，如果你发现它执行的任务太多，请尝试将这些代码划分到两个函数中\n"
   ]
  },
  {
   "cell_type": "code",
   "execution_count": null,
   "metadata": {},
   "outputs": [],
   "source": [
    "print_models(unprinted_designs[:], completed_models)\n",
    "#虽然向函数传递列表的副本可保留原始列表的内容，但除非有充分的理由需要传递副本，否\n",
    "#则还是应该将原始列表传递给函数，因为让函数使用现成列表可避免花时间和内存创建副本，从\n",
    "#而提高效率，在处理大型列表时尤其如此。"
   ]
  },
  {
   "cell_type": "code",
   "execution_count": 22,
   "metadata": {},
   "outputs": [
    {
     "name": "stdout",
     "output_type": "stream",
     "text": [
      "a\n",
      "b\n",
      "c\n",
      "d\n",
      "e\n",
      "['a', 'b', 'c', 'd', 'e']\n"
     ]
    }
   ],
   "source": [
    "def show_magicians(roll_call):\n",
    "    for mag in roll_call[:]:\n",
    "        print(mag)\n",
    "roll_call=['a','b','c','d','e']\n",
    "show_magicians(roll_call)\n",
    "print(roll_call)\n"
   ]
  },
  {
   "cell_type": "code",
   "execution_count": 23,
   "metadata": {},
   "outputs": [
    {
     "name": "stdout",
     "output_type": "stream",
     "text": [
      "Harry Houdini\n",
      "David Copperfield\n",
      "Penn Jillette\n",
      "Teller\n",
      "the Great Harry Houdini\n",
      "the Great David Copperfield\n",
      "the Great Penn Jillette\n",
      "the Great Teller\n"
     ]
    }
   ],
   "source": [
    "# 创建包含魔术师名字的列表\n",
    "magicians = [\"Harry Houdini\", \"David Copperfield\", \"Penn Jillette\", \"Teller\"]\n",
    "\n",
    "# 定义函数show_magicians()来打印魔术师名字\n",
    "def show_magicians(magicians_list):\n",
    "    for magician in magicians_list:\n",
    "        print(magician)\n",
    "\n",
    "# 调用函数show_magicians()来打印魔术师名字\n",
    "show_magicians(magicians)\n",
    "\n",
    "# 定义函数make_great()来修改魔术师列表\n",
    "def make_great(magicians_list):\n",
    "    for i in range(len(magicians_list)):\n",
    "        magicians_list[i] = \"the Great \" + magicians_list[i]\n",
    "\n",
    "# 调用函数make_great()来修改魔术师列表\n",
    "make_great(magicians)\n",
    "\n",
    "# 调用函数show_magicians()来确认魔术师列表已经变了\n",
    "show_magicians(magicians)\n"
   ]
  },
  {
   "cell_type": "code",
   "execution_count": 26,
   "metadata": {},
   "outputs": [
    {
     "name": "stdout",
     "output_type": "stream",
     "text": [
      "Harry Houdini\n",
      "David Copperfield\n",
      "Penn Jillette\n",
      "Teller\n",
      "the Great Harry Houdini\n",
      "the Great David Copperfield\n",
      "the Great Penn Jillette\n",
      "the Great Teller\n"
     ]
    }
   ],
   "source": [
    "# 创建包含魔术师名字的列表\n",
    "magicians = [\"Harry Houdini\", \"David Copperfield\", \"Penn Jillette\", \"Teller\"]\n",
    "\n",
    "# 定义函数show_magicians()来打印魔术师名字\n",
    "def show_magicians(magicians_list):\n",
    "    for magician in magicians_list:\n",
    "        print(magician)\n",
    "\n",
    "# 定义函数make_great()来修改魔术师列表，并返回修改后的副本\n",
    "def make_great(magicians_list):\n",
    "    great_magicians = []\n",
    "    for magician in magicians_list:\n",
    "        great_magicians.append(\"the Great \" + magician)\n",
    "    return great_magicians\n",
    "'''return语句的作用是：\n",
    "返回函数的结果：它允许我们将函数处理后得到的值或数据结构返回给调用方，以便在调用方进行后续操作。\n",
    "终止函数执行：当函数执行到return语句时，它会立即终止函数的执行并返回结果。任何位于return之后的代码都不会被执行。\n",
    "在这个例子中，我们需要使用return语句来获取函数make_great()的处理结果，以便在主程序中存储返回的修改后的列表，\n",
    "并将其传递给show_magicians()函数来打印添加了“the Great”的魔术师名字列表。\n",
    "如果没有return语句，函数将无法将处理结果传递给调用方，我们也无法获取新的列表并在主程序中进行操作。'''\n",
    "\n",
    "# 传递魔术师列表的副本给make_great()函数，返回修改后的列表并存储到另一个列表中\n",
    "modified_magicians = make_great(magicians[:])\n",
    "\n",
    "# 调用函数show_magicians()来确认一个列表包含原来的魔术师名字\n",
    "show_magicians(magicians)\n",
    "\n",
    "# 调用函数show_magicians()来确认另一个列表包含添加了字样“the Great”的魔术师名字\n",
    "show_magicians(modified_magicians)\n"
   ]
  },
  {
   "cell_type": "code",
   "execution_count": 27,
   "metadata": {},
   "outputs": [
    {
     "name": "stdout",
     "output_type": "stream",
     "text": [
      "('pepperoni',)\n",
      "('mushrooms', 'green peppers', 'extra cheese')\n"
     ]
    }
   ],
   "source": [
    "def make_pizza(*toppings):\n",
    "    \"\"\"打印顾客点的所有配料\"\"\"\n",
    "    print(toppings)\n",
    "make_pizza('pepperoni')\n",
    "make_pizza('mushrooms', 'green peppers', 'extra cheese')\n",
    "#形参名 *toppings 中的星号让Python创建一个名为 toppings 的空元组，并将收到的所有值都封\n",
    "#装到这个元组中。"
   ]
  },
  {
   "cell_type": "code",
   "execution_count": 28,
   "metadata": {},
   "outputs": [
    {
     "name": "stdout",
     "output_type": "stream",
     "text": [
      "\n",
      "Making a 16-inch pizza with the following toppings:\n",
      "- pepperoni\n",
      "\n",
      "Making a 12-inch pizza with the following toppings:\n",
      "- mushrooms\n",
      "- green peppers\n",
      "- extra cheese\n"
     ]
    }
   ],
   "source": [
    "def make_pizza(size, *toppings):\n",
    "    \"\"\"概述要制作的比萨\"\"\"\n",
    "    print(\"\\nMaking a \" + \n",
    "          str(size) +\n",
    "\"-inch pizza with the following toppings:\"\n",
    ")\n",
    "    for topping in toppings:\n",
    "        print(\"- \" + topping)\n",
    "make_pizza(16, 'pepperoni')\n",
    "make_pizza(12, 'mushrooms', 'green peppers', 'extra cheese')"
   ]
  },
  {
   "cell_type": "code",
   "execution_count": 29,
   "metadata": {},
   "outputs": [
    {
     "name": "stdout",
     "output_type": "stream",
     "text": [
      "{'first_name': 'albert', 'last_name': 'einstein', 'location': 'princeton', 'field': 'physics'}\n"
     ]
    }
   ],
   "source": [
    "def build_profile(first, last, **user_info):\n",
    "    \"\"\"创建一个字典，其中包含我们知道的有关用户的一切\"\"\"\n",
    "    profile = {}\n",
    "    profile['first_name'] = first\n",
    "    profile['last_name'] = last\n",
    "    for key, value in user_info.items():\n",
    "        profile[key] = value\n",
    "    return profile\n",
    "user_profile = build_profile('albert', 'einstein',\n",
    "location='princeton',\n",
    "field='physics')#将等号转为字典\n",
    "print(user_profile)"
   ]
  },
  {
   "cell_type": "code",
   "execution_count": 30,
   "metadata": {},
   "outputs": [
    {
     "name": "stdout",
     "output_type": "stream",
     "text": [
      "正在制作三明治，包含以下食材：\n",
      "- 火腿\n",
      "- 生菜\n",
      "- 番茄\n",
      "- 芝士\n",
      "\n",
      "\n",
      "正在制作三明治，包含以下食材：\n",
      "- 火腿\n",
      "- 生菜\n",
      "- 番茄\n",
      "\n",
      "\n",
      "正在制作三明治，包含以下食材：\n",
      "- 火腿\n",
      "- 芝士\n"
     ]
    }
   ],
   "source": [
    "# 定义函数make_sandwich()来接受顾客要添加的食材，并打印三明治的概述\n",
    "def make_sandwich(*ingredients):\n",
    "    print(\"正在制作三明治，包含以下食材：\")\n",
    "    for ingredient in ingredients:\n",
    "        print(\"- \" + ingredient)\n",
    "\n",
    "# 调用函数make_sandwich()三次，每次提供不同数量的实参\n",
    "make_sandwich(\"火腿\", \"生菜\", \"番茄\", \"芝士\")\n",
    "print(\"\\n\")\n",
    "make_sandwich(\"火腿\", \"生菜\", \"番茄\")\n",
    "print(\"\\n\")\n",
    "make_sandwich(\"火腿\", \"芝士\")\n"
   ]
  },
  {
   "cell_type": "code",
   "execution_count": 31,
   "metadata": {},
   "outputs": [
    {
     "name": "stdout",
     "output_type": "stream",
     "text": [
      "{'manufacturer': 'subaru', 'model': 'outback', 'color': 'blue', 'tow_package': True}\n"
     ]
    }
   ],
   "source": [
    "# 定义函数make_car()来存储汽车的信息\n",
    "def make_car(manufacturer, model, **car_info):\n",
    "    car = {\n",
    "        'manufacturer': manufacturer,\n",
    "        'model': model\n",
    "    }\n",
    "    car.update(car_info)#我们使用car.update(car_info)将关键字实参中的信息更新到字典car中\n",
    "    return car\n",
    "\n",
    "# 调用函数make_car()，提供必不可少的信息和两个名称-值对\n",
    "car = make_car('subaru', 'outback', color='blue', tow_package=True)\n",
    "print(car)\n"
   ]
  },
  {
   "cell_type": "code",
   "execution_count": null,
   "metadata": {},
   "outputs": [],
   "source": [
    "'''函数的优点之一是，使用它们可将代码块与主程序分离。通过给函数指定描述性名称，可让\n",
    "主程序容易理解得多。你还可以更进一步，将函数存储在被称为模块的独立文件中，再将模块导\n",
    "入到主程序中。 import 语句允许在当前运行的程序文件中使用模块中的代码。\n",
    "通过将函数存储在独立的文件中，可隐藏程序代码的细节，将重点放在程序的高层逻辑上。\n",
    "这还能让你在众多不同的程序中重用函数。将函数存储在独立文件中后，可与其他程序员共享这\n",
    "些文件而不是整个程序。知道如何导入函数还能让你使用其他程序员编写的函数库。'''"
   ]
  },
  {
   "cell_type": "code",
   "execution_count": null,
   "metadata": {},
   "outputs": [],
   "source": [
    "'''只需编写一条 import 语句并在其中指定模块名，就可在程序中使用该\n",
    "模块中的所有函数。如果你使用这种 import 语句导入了名为 module_name.py 的整个模块，就可使\n",
    "用下面的语法来使用其中任何一个函数：\n",
    "module_name.function_name ()\n",
    "你还可以导入模块中的特定函数，这种导入方法的语法如下：\n",
    "from module_name import function_name\n",
    "通过用逗号分隔函数名，可根据需要从模块中导入任意数量的函数：\n",
    "from module_name import function_0 , function_1 , function_2\n",
    "from module_name import function_name as fn\n",
    "使用 as 给模块指定别名 import module_name as mn用来取外号非常的好用'''"
   ]
  },
  {
   "cell_type": "code",
   "execution_count": null,
   "metadata": {},
   "outputs": [],
   "source": [
    "'''导入模块中的所有函数\n",
    "使用星号（ * )运算符可让Python导入模块中的所有函数:\n",
    "from pizza import *\n",
    "make_pizza(16, 'pepperoni')\n",
    "make_pizza(12, 'mushrooms', 'green peppers', 'extra cheese')\n",
    "import 语句中的星号让Python将模块 pizza 中的每个函数都复制到这个程序文件中。由于导入\n",
    "了每个函数，可通过名称来调用每个函数，而无需使用句点表示法。然而，使用并非自己编写的\n",
    "大型模块时，最好不要采用这种导入方法：如果模块中有函数的名称与你的项目中使用的名称相\n",
    "同，可能导致意想不到的结果\n",
    "最佳的做法是，要么只导入你需要使用的函数，要么导入整个模块并使用句点表示法\n",
    "*有某种任性任意的意思'''"
   ]
  },
  {
   "cell_type": "code",
   "execution_count": null,
   "metadata": {},
   "outputs": [],
   "source": [
    "'''给形参指定默认值时，等号两边不要有空格：\n",
    "def function_name ( parameter_0 , parameter_1 =' default value ')\n",
    "对于函数调用中的关键字实参，也应遵循这种约定：\n",
    "function_name ( value_0 , parameter_1 =' value ')\n",
    "def function_name (\n",
    "    parameter_0 , parameter_1 , parameter_2 ,\n",
    "    parameter_3 , parameter_4 , parameter_5 ):\n",
    "    function body...\n",
    "   如果程序或模块包含多个函数，可使用两个空行将相邻的函数分开，这样将更容易知道前一\n",
    "个函数在什么地方结束，下一个函数从什么地方开始。\n",
    "所有的 import 语句都应放在文件开头，唯一例外的情形是，在文件开头使用了注释来描述整\n",
    "个程序。 '''"
   ]
  },
  {
   "cell_type": "code",
   "execution_count": 5,
   "metadata": {},
   "outputs": [
    {
     "name": "stdout",
     "output_type": "stream",
     "text": [
      "25\n"
     ]
    }
   ],
   "source": [
    "import new_try\n",
    "new_try.power(5)\n"
   ]
  },
  {
   "cell_type": "code",
   "execution_count": 7,
   "metadata": {},
   "outputs": [
    {
     "name": "stdout",
     "output_type": "stream",
     "text": [
      "36\n"
     ]
    }
   ],
   "source": [
    "from new_try import power#只要函数名字，不包含导入的形参\n",
    "power(6)"
   ]
  },
  {
   "cell_type": "code",
   "execution_count": 8,
   "metadata": {},
   "outputs": [
    {
     "name": "stdout",
     "output_type": "stream",
     "text": [
      "49\n"
     ]
    }
   ],
   "source": [
    "from new_try import power as square\n",
    "square(7)"
   ]
  },
  {
   "cell_type": "code",
   "execution_count": 9,
   "metadata": {},
   "outputs": [
    {
     "name": "stdout",
     "output_type": "stream",
     "text": [
      "64\n"
     ]
    }
   ],
   "source": [
    "import new_try as n\n",
    "n.power(8)"
   ]
  },
  {
   "cell_type": "code",
   "execution_count": null,
   "metadata": {},
   "outputs": [],
   "source": [
    "#全不包含参数等变量，只有名字,点号表示最实用，其次引入单个函数"
   ]
  },
  {
   "cell_type": "code",
   "execution_count": 10,
   "metadata": {},
   "outputs": [
    {
     "name": "stdout",
     "output_type": "stream",
     "text": [
      "25\n"
     ]
    }
   ],
   "source": [
    "from new_try import *#这里*就是函数名的任意性集合体，性质就是一个名称\n",
    "power(5)"
   ]
  },
  {
   "cell_type": "code",
   "execution_count": null,
   "metadata": {},
   "outputs": [],
   "source": []
  },
  {
   "cell_type": "code",
   "execution_count": null,
   "metadata": {},
   "outputs": [],
   "source": []
  },
  {
   "cell_type": "code",
   "execution_count": null,
   "metadata": {},
   "outputs": [],
   "source": []
  },
  {
   "cell_type": "code",
   "execution_count": null,
   "metadata": {},
   "outputs": [],
   "source": []
  },
  {
   "cell_type": "code",
   "execution_count": null,
   "metadata": {},
   "outputs": [],
   "source": []
  },
  {
   "cell_type": "code",
   "execution_count": null,
   "metadata": {},
   "outputs": [],
   "source": []
  }
 ],
 "metadata": {
  "kernelspec": {
   "display_name": "Python 3",
   "language": "python",
   "name": "python3"
  },
  "language_info": {
   "codemirror_mode": {
    "name": "ipython",
    "version": 3
   },
   "file_extension": ".py",
   "mimetype": "text/x-python",
   "name": "python",
   "nbconvert_exporter": "python",
   "pygments_lexer": "ipython3",
   "version": "3.9.0b4"
  },
  "orig_nbformat": 4
 },
 "nbformat": 4,
 "nbformat_minor": 2
}
