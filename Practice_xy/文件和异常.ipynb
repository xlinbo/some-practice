{
 "cells": [
  {
   "cell_type": "code",
   "execution_count": null,
   "metadata": {},
   "outputs": [],
   "source": [
    "#你可以编写一个这样的程序：读取一个文本文件的内容，重新设置这些数据的格式\n",
    "#并将其写入文件，让浏览器能够显示这些内容。\n",
    "'''file_reader.py\n",
    "with open('pi_digits.txt') as file_object:\n",
    "contents = file_object.read()\n",
    "print(contents)\n",
    "在这个程序中，第1行代码做了大量的工作。我们先来看看函数 open() 。要以任何方式使用\n",
    "文件——哪怕仅仅是打印其内容，都得先打开文件，这样才能访问它。函数 open() 接受一个参数：\n",
    "要打开的文件的名称。关键字 with 在不再需要访问文件后将其关闭。在这个程序中，注意到我们调用了 open() ，但\n",
    "没有调用 close() ；你也可以调用 open() 和 close() 来打开和关闭文件，但这样做时，如果程序存\n",
    "在bug，导致 close() 语句未执行，文件将不会关闭。这看似微不足道，但未妥善地关闭文件可能\n",
    "会导致数据丢失或受损。如果在程序中过早地调用 close() ，你会发现需要使用文件时它已关闭\n",
    "（无法访问），这会导致更多的错误。并非在任何情况下都能轻松确定关闭文件的恰当时机，但通\n",
    "过使用前面所示的结构，可让Python去确定：你只管打开文件，并在需要时使用它，Python自会\n",
    "在合适的时候自动将其关闭。'''"
   ]
  },
  {
   "cell_type": "code",
   "execution_count": null,
   "metadata": {},
   "outputs": [],
   "source": [
    "'''当你将类似pi_digits.txt这样的简单文件名传递给函数 open() 时，Python将在当前执行的文件\n",
    "（即.py程序文件）所在的目录中查找文件。\n",
    "根据你组织文件的方式，有时可能要打开不在程序文件所属目录中的文件。例如，你可能将\n",
    "程序文件存储在了文件夹python_work中，而在文件夹python_work中，有一个名为text_files的文\n",
    "件夹，用于存储程序文件操作的文本文件。虽然文件夹text_files包含在文件夹python_work中，但\n",
    "仅向 open() 传递位于该文件夹中的文件的名称也不可行，因为Python只在文件夹python_work中查\n",
    "找，而不会在其子文件夹text_files中查找。要让Python打开不与程序文件位于同一个目录中的文\n",
    "件，需要提供文件路径，它让Python到系统的特定位置去查找。\n",
    "由于文件夹text_files位于文件夹python_work中，因此可使用相对文件路径来打开该文件夹中\n",
    "的文件。相对文件路径让Python到指定的位置去查找，而该位置是相对于当前运行的程序所在目\n",
    "录的。在Linux和OS X中，你可以这样编写代码：\n",
    "with open('text_files/ filename .txt') as file_object:\n",
    "这行代码让Python到文件夹python_work下的文件夹text_files中去查找指定的.txt文件。在\n",
    "Windows系统中，在文件路径中使用反斜杠（ \\ ）而不是斜杠（ / ）：\n",
    "with open('text_files\\ filename .txt') as file_object:\n",
    "你还可以将文件在计算机中的准确位置告诉Python，这样就不用关心当前运行的程序存储在\n",
    "什么地方了。这称为绝对文件路径。在相对路径行不通时，可使用绝对路径。例如，如果text_files\n",
    "并不在文件夹python_work中，而在文件夹other_files中，则向 open() 传递路径 'text_files/\n",
    "filename.txt' 行不通，因为Python只在文件夹python_work中查找该位置。为明确地指出你希望\n",
    "Python到哪里去查找，你需要提供完整的路径。'''"
   ]
  },
  {
   "cell_type": "code",
   "execution_count": null,
   "metadata": {},
   "outputs": [],
   "source": [
    "'''你还可以将文件在计算机中的准确位置告诉Python，这样就不用关心当前运行的程序存储在\n",
    "什么地方了。这称为绝对文件路径。在相对路径行不通时，可使用绝对路径。例如，如果text_files\n",
    "并不在文件夹python_work中，而在文件夹other_files中，则向 open() 传递路径 'text_files/\n",
    "filename.txt' 行不通，因为Python只在文件夹python_work中查找该位置。为明确地指出你希望\n",
    "Python到哪里去查找，你需要提供完整的路径。'''"
   ]
  },
  {
   "cell_type": "code",
   "execution_count": null,
   "metadata": {},
   "outputs": [],
   "source": [
    "'''file_path = '/home/ehmatthes/other_files/text_files/ filename .txt'\n",
    "with open(file_path) as file_object:\n",
    "而在Windows系统中，它们类似于下面这样：\n",
    "file_path = 'C:\\Users\\ehmatthes\\other_files\\text_files\\ filename .txt'\n",
    "with open(file_path) as file_object:\n",
    "通过使用绝对路径，可读取系统任何地方的文件。就目前而言，最简单的做法是，要么将数\n",
    "据文件存储在程序文件所在的目录，要么将其存储在程序文件所在目录下的一个文件夹（如\n",
    "text_files）中。'''"
   ]
  },
  {
   "cell_type": "code",
   "execution_count": null,
   "metadata": {},
   "outputs": [],
   "source": [
    "'''filename = 'pi_digits.txt'\n",
    "with open(filename) as file_object:\n",
    "    for line in file_object:\n",
    "        print(line.rstrip())'''"
   ]
  },
  {
   "cell_type": "code",
   "execution_count": null,
   "metadata": {},
   "outputs": [],
   "source": [
    "'''读取文本文件时，Python将其中的所有文本都解读为字符串。如果你读取的是数字，并\n",
    "要将其作为数值使用，就必须使用函数 int() 将其转换为整数，或使用函数 float() 将其转\n",
    "换为浮点数。Python只能将字符串写入文本文件。要将数值数据存储到文本文件中，必须先使用函数\n",
    "str() 将其转换为字符串格式。'''"
   ]
  },
  {
   "cell_type": "code",
   "execution_count": 1,
   "metadata": {},
   "outputs": [],
   "source": [
    "file_path = 'guest.txt'  # 文件路径\n",
    "\n",
    "name = input(\"请输入您的名字：\")  # 提示用户输入名字\n",
    "\n",
    "with open(file_path, 'w') as file_object:\n",
    "    file_object.write(name)  # 将名字写入文件，写入加括号\n"
   ]
  },
  {
   "cell_type": "code",
   "execution_count": 2,
   "metadata": {},
   "outputs": [
    {
     "name": "stdout",
     "output_type": "stream",
     "text": [
      "欢迎，xy!\n"
     ]
    }
   ],
   "source": [
    "file_path = 'guest_book.txt'  # 文件路径\n",
    "\n",
    "while True:\n",
    "    name = input(\"请输入您的名字（输入'q'退出）：\")  # 提示用户输入名字\n",
    "    if name == 'q':\n",
    "        break  # 如果用户输入'q'，退出循环\n",
    "\n",
    "    # 打印问候语\n",
    "    print(\"欢迎，\" + name + \"!\")\n",
    "\n",
    "    with open(file_path, 'a') as file_object:#a是又读又写\n",
    "        file_object.write(name + \"\\n\")  # 将名字写入文件，并添加换行符\n"
   ]
  },
  {
   "cell_type": "code",
   "execution_count": 3,
   "metadata": {},
   "outputs": [
    {
     "name": "stdout",
     "output_type": "stream",
     "text": [
      "请输入您为何喜欢编程（输入'q'退出）：\n"
     ]
    }
   ],
   "source": [
    "file_path = 'reasons.txt'  # 文件路径\n",
    "\n",
    "print(\"请输入您为何喜欢编程（输入'q'退出）：\")\n",
    "while True:\n",
    "    reason = input()  # 提示用户输入原因\n",
    "    if reason == 'q':\n",
    "        break  # 如果用户输入'q'，退出循环\n",
    "\n",
    "    with open(file_path, 'a') as file_object:\n",
    "        file_object.write(reason + \"\\n\")  # 将原因写入文件，并添加换行符\n"
   ]
  },
  {
   "cell_type": "code",
   "execution_count": 4,
   "metadata": {},
   "outputs": [
    {
     "name": "stdout",
     "output_type": "stream",
     "text": [
      "You can't divide by zero!\n"
     ]
    }
   ],
   "source": [
    "try:\n",
    "    print(5/0)\n",
    "except ZeroDivisionError:\n",
    "    print(\"You can't divide by zero!\")"
   ]
  },
  {
   "cell_type": "code",
   "execution_count": 5,
   "metadata": {},
   "outputs": [
    {
     "name": "stdout",
     "output_type": "stream",
     "text": [
      "Give me two numbers, and I'll divide them.\n",
      "Enter 'q' to quit.\n",
      "You can't divide by 0!\n"
     ]
    }
   ],
   "source": [
    "print(\"Give me two numbers, and I'll divide them.\")\n",
    "print(\"Enter 'q' to quit.\")\n",
    "while True:\n",
    "    first_number = input(\"\\nFirst number: \")\n",
    "    if first_number == 'q':\n",
    "        break\n",
    "    second_number = input(\"Second number: \")\n",
    "    try:\n",
    "        answer = int(first_number) / int(second_number)\n",
    "    except ZeroDivisionError:\n",
    "        print(\"You can't divide by 0!\")\n",
    "    else:\n",
    "        print(answer)"
   ]
  },
  {
   "cell_type": "code",
   "execution_count": null,
   "metadata": {},
   "outputs": [],
   "source": [
    "'''ry-except-else 代码块的工作原理大致如下：Python尝试执行 try 代码块中的代码；只有可\n",
    "能引发异常的代码才需要放在 try 语句中。有时候，有一些仅在 try 代码块成功执行时才需要运行\n",
    "的代码；这些代码应放在 else 代码块中。 except 代码块告诉Python，如果它尝试运行 try 代码块中\n",
    "的代码时引发了指定的异常，该怎么办。\n",
    "通过预测可能发生错误的代码，可编写健壮的程序，它们即便面临无效数据或缺少资源，也\n",
    "能继续运行，从而能够抵御无意的用户错误和恶意的攻击。'''"
   ]
  },
  {
   "cell_type": "code",
   "execution_count": 6,
   "metadata": {},
   "outputs": [
    {
     "name": "stdout",
     "output_type": "stream",
     "text": [
      "Sorry, the file alice.txt does not exist.\n"
     ]
    }
   ],
   "source": [
    "filename = 'alice.txt'\n",
    "try:\n",
    "    with open(filename) as f_obj:\n",
    "        contents = f_obj.read()\n",
    "except FileNotFoundError:\n",
    "    msg = \"Sorry, the file \" + filename + \" does not exist.\"\n",
    "    print(msg)"
   ]
  },
  {
   "cell_type": "code",
   "execution_count": 7,
   "metadata": {},
   "outputs": [
    {
     "data": {
      "text/plain": [
       "['Alice', 'in', 'Wonderland']"
      ]
     },
     "execution_count": 7,
     "metadata": {},
     "output_type": "execute_result"
    }
   ],
   "source": [
    "title = \"Alice in Wonderland\"\n",
    "title.split()"
   ]
  },
  {
   "cell_type": "code",
   "execution_count": 10,
   "metadata": {},
   "outputs": [
    {
     "name": "stdout",
     "output_type": "stream",
     "text": [
      "The file guest_book.txt has about 1 words.\n"
     ]
    }
   ],
   "source": [
    "filename = 'guest_book.txt'\n",
    "try:\n",
    "    with open(filename) as f_obj:\n",
    "        contents = f_obj.read()\n",
    "except FileNotFoundError:\n",
    "    msg = \"Sorry, the file \" + filename + \" does not exist.\"\n",
    "    print(msg)\n",
    "else:\n",
    "    # 计算文件大致包含多少个单词\n",
    "    words = contents.split()\n",
    "    num_words = len(words)\n",
    "    print(\"The file \" + filename + \" has about \" + str(num_words) + \" words.\")"
   ]
  },
  {
   "cell_type": "code",
   "execution_count": null,
   "metadata": {},
   "outputs": [],
   "source": [
    "'''在前一个示例中，我们告诉用户有一个文件找不到。但并非每次捕获到异常时都需要告诉用\n",
    "户，有时候你希望程序在发生异常时一声不吭，就像什么都没有发生一样继续运行。要让程序在\n",
    "失败时一声不吭，可像通常那样编写 try 代码块，但在 except 代码块中明确地告诉Python什么都不\n",
    "要做。Python有一个 pass 语句，可在代码块中使用它来让Python什么都不要做'''"
   ]
  },
  {
   "cell_type": "code",
   "execution_count": null,
   "metadata": {},
   "outputs": [],
   "source": [
    "'''pass 语句还充当了占位符，它提醒你在程序的某个地方什么都没有做，并且以后也许要在这\n",
    "里做些什么。例如，在这个程序中，我们可能决定将找不到的文件的名称写入到文件\n",
    "missing_files.txt中。用户看不到这个文件，但我们可以读取这个文件，进而处理所有文件找不到\n",
    "的问题。'''"
   ]
  },
  {
   "cell_type": "code",
   "execution_count": null,
   "metadata": {},
   "outputs": [],
   "source": [
    "'''向用户显示他不想看到的信息可能会降低程序的可用性。Python的错误处理结构让你能够细致地\n",
    "控制与用户分享错误信息的程度，要分享多少信息由你决定。\n",
    "编写得很好且经过详尽测试的代码不容易出现内部错误，如语法或逻辑错误，但只要程序依\n",
    "赖于外部因素，如用户输入、存在指定的文件、有网络链接，就有可能出现异常。凭借经验可判\n",
    "断该在程序的什么地方包含异常处理块，以及出现错误时该向用户提供多少相关的信息'''"
   ]
  },
  {
   "cell_type": "code",
   "execution_count": 13,
   "metadata": {},
   "outputs": [
    {
     "name": "stdout",
     "output_type": "stream",
     "text": [
      "两个数字的和为： 11\n"
     ]
    }
   ],
   "source": [
    "try:\n",
    "    num1 = int(input(\"请输入第一个数字：\"))\n",
    "    num2 = int(input(\"请输入第二个数字：\"))\n",
    "    result = num1 + num2\n",
    "    print(\"两个数字的和为：\", result)#在打印结果时，Python会自动将整数转换为字符串进行输出。所以不需要将result变量转换为字符串形式。\n",
    "except ValueError:\n",
    "    print(\"输入的值不是数字，请重新输入。\")\n"
   ]
  },
  {
   "cell_type": "code",
   "execution_count": 15,
   "metadata": {},
   "outputs": [
    {
     "name": "stdout",
     "output_type": "stream",
     "text": [
      "请输入两个数字，我将计算它们的和。\n",
      "两个数字的和为： 8\n"
     ]
    }
   ],
   "source": [
    "print(\"请输入两个数字，我将计算它们的和。\")\n",
    "\n",
    "while True:\n",
    "    try:\n",
    "        num1 = int(input(\"请输入第一个数字：\"))\n",
    "        num2 = int(input(\"请输入第二个数字：\"))\n",
    "        sum = num1 + num2\n",
    "        print(\"两个数字的和为：\", sum)\n",
    "        break\n",
    "    except ValueError:\n",
    "        print(\"输入错误，请输入数字。\")\n",
    "        choice = input(\"是否继续输入数字？(y/n): \")\n",
    "        if choice.lower() != \"y\":\n",
    "            break\n"
   ]
  },
  {
   "cell_type": "code",
   "execution_count": null,
   "metadata": {},
   "outputs": [],
   "source": [
    "'''模块 json 让你能够将简单的Python数据结构转储到文件中，并在程序再次运行时加载该文件\n",
    "中的数据。你还可以使用 json 在Python程序之间分享数据。更重要的是，JSON数据格式并非Python\n",
    "专用的，这让你能够将以JSON格式存储的数据与使用其他编程语言的人分享。JavaScript Object Notation'''"
   ]
  },
  {
   "cell_type": "code",
   "execution_count": 16,
   "metadata": {},
   "outputs": [
    {
     "name": "stdout",
     "output_type": "stream",
     "text": [
      "{'name': 'John', 'age': 30, 'city': 'New York'}\n"
     ]
    }
   ],
   "source": [
    "import json\n",
    "\n",
    "data = {\n",
    "    \"name\": \"John\",\n",
    "    \"age\": 30,\n",
    "    \"city\": \"New York\"\n",
    "}\n",
    "\n",
    "# 存储数据到JSON文件\n",
    "with open(\"data.json\", \"w\") as file:\n",
    "    json.dump(data, file)\n",
    "import json\n",
    "\n",
    "# 从JSON文件中读取数据\n",
    "with open(\"data.json\", \"r\") as file:\n",
    "    data = json.load(file)\n",
    "\n",
    "# 打印读取的数据\n",
    "print(data)\n",
    "#存入需要两个 参数，取出只要文件名\n",
    "#f_obj也行\n"
   ]
  },
  {
   "cell_type": "code",
   "execution_count": 17,
   "metadata": {},
   "outputs": [
    {
     "name": "stdout",
     "output_type": "stream",
     "text": [
      "We'll remember you when you come back, 555!\n"
     ]
    }
   ],
   "source": [
    "import json\n",
    "\n",
    "filename = 'username.json'\n",
    "\n",
    "try:\n",
    "    with open(filename) as f_obj:\n",
    "        username = json.load(f_obj)\n",
    "except FileNotFoundError:\n",
    "    username = input(\"What is your name? \")\n",
    "    with open(filename, 'w') as f_obj:\n",
    "        json.dump(username, f_obj)\n",
    "    print(\"We'll remember you when you come back, \" + username + \"!\")\n",
    "else:\n",
    "    print(\"Welcome back, \" + username + \"!\")\n"
   ]
  },
  {
   "cell_type": "code",
   "execution_count": 18,
   "metadata": {},
   "outputs": [
    {
     "name": "stdout",
     "output_type": "stream",
     "text": [
      "Your favorite number has been stored in favorite_number.json.\n"
     ]
    }
   ],
   "source": [
    "import json\n",
    "\n",
    "filename = 'favorite_number.json'\n",
    "\n",
    "favorite_number = input(\"What is your favorite number? \")\n",
    "\n",
    "with open(filename, 'w') as f_obj:\n",
    "    json.dump(favorite_number, f_obj)\n",
    "\n",
    "print(\"Your favorite number has been stored in \" + filename + \".\")\n"
   ]
  },
  {
   "cell_type": "code",
   "execution_count": 19,
   "metadata": {},
   "outputs": [
    {
     "name": "stdout",
     "output_type": "stream",
     "text": [
      "I know your favorite number! It's 6.\n"
     ]
    }
   ],
   "source": [
    "import json\n",
    "\n",
    "filename = 'favorite_number.json'\n",
    "\n",
    "try:\n",
    "    with open(filename) as f_obj:\n",
    "        favorite_number = json.load(f_obj)\n",
    "        print(\"I know your favorite number! It's \" + favorite_number + \".\")\n",
    "except FileNotFoundError:\n",
    "    print(\"No favorite number found. Please run the first program to store your favorite number.\")\n"
   ]
  },
  {
   "cell_type": "code",
   "execution_count": null,
   "metadata": {},
   "outputs": [],
   "source": [
    "'''在本章中，你学习了：如何使用文件；如何一次性读取整个文件，以及如何以每次一行的方\n",
    "式读取文件的内容；如何写入文件，以及如何将文本附加到文件末尾；什么是异常以及如何处理\n",
    "程序可能引发的异常；如何存储Python数据结构，以保存用户提供的信息，避免用户每次运行程\n",
    "序时都需要重新提供。'''"
   ]
  }
 ],
 "metadata": {
  "kernelspec": {
   "display_name": "Python 3",
   "language": "python",
   "name": "python3"
  },
  "language_info": {
   "codemirror_mode": {
    "name": "ipython",
    "version": 3
   },
   "file_extension": ".py",
   "mimetype": "text/x-python",
   "name": "python",
   "nbconvert_exporter": "python",
   "pygments_lexer": "ipython3",
   "version": "3.9.0b4"
  },
  "orig_nbformat": 4
 },
 "nbformat": 4,
 "nbformat_minor": 2
}
