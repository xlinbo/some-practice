{
 "cells": [
  {
   "cell_type": "code",
   "execution_count": 5,
   "metadata": {},
   "outputs": [
    {
     "ename": "AttributeError",
     "evalue": "'Settings' object has no attribute 'screen_width'",
     "output_type": "error",
     "traceback": [
      "\u001b[1;31m---------------------------------------------------------------------------\u001b[0m",
      "\u001b[1;31mAttributeError\u001b[0m                            Traceback (most recent call last)",
      "Cell \u001b[1;32mIn[5], line 25\u001b[0m\n\u001b[0;32m     23\u001b[0m \u001b[39m# 让最近绘制的屏幕可见 \u001b[39;00m\n\u001b[0;32m     24\u001b[0m         pygame\u001b[39m.\u001b[39mdisplay\u001b[39m.\u001b[39mflip()\n\u001b[1;32m---> 25\u001b[0m run_game()\n",
      "Cell \u001b[1;32mIn[5], line 9\u001b[0m, in \u001b[0;36mrun_game\u001b[1;34m()\u001b[0m\n\u001b[0;32m      6\u001b[0m pygame\u001b[39m.\u001b[39minit()\n\u001b[0;32m      7\u001b[0m ai_settings \u001b[39m=\u001b[39m Settings()\n\u001b[0;32m      8\u001b[0m screen \u001b[39m=\u001b[39m pygame\u001b[39m.\u001b[39mdisplay\u001b[39m.\u001b[39mset_mode(\n\u001b[1;32m----> 9\u001b[0m     (ai_settings\u001b[39m.\u001b[39;49mscreen_width, ai_settings\u001b[39m.\u001b[39mscreen_height))\n\u001b[0;32m     10\u001b[0m screen \u001b[39m=\u001b[39m pygame\u001b[39m.\u001b[39mdisplay\u001b[39m.\u001b[39mset_mode((\u001b[39m1200\u001b[39m, \u001b[39m800\u001b[39m))\n\u001b[0;32m     11\u001b[0m pygame\u001b[39m.\u001b[39mdisplay\u001b[39m.\u001b[39mset_caption(\u001b[39m\"\u001b[39m\u001b[39mAlien Invasion\u001b[39m\u001b[39m\"\u001b[39m)\n",
      "\u001b[1;31mAttributeError\u001b[0m: 'Settings' object has no attribute 'screen_width'"
     ]
    }
   ],
   "source": [
    "import sys\n",
    "import pygame\n",
    "from settings import Settings\n",
    "def run_game():\n",
    "# 初始化pygame、设置和屏幕对象\n",
    "    pygame.init()\n",
    "    ai_settings = Settings()\n",
    "    screen = pygame.display.set_mode(\n",
    "        (ai_settings.screen_width, ai_settings.screen_height))\n",
    "    screen = pygame.display.set_mode((1200, 800))\n",
    "    pygame.display.set_caption(\"Alien Invasion\")\n",
    "    # 设置背景色\n",
    "    bg_color = (230, 230, 230)\n",
    "# 开始游戏主循环.\n",
    "# 开始游戏的主循环 \n",
    "    while True:\n",
    "# 监视键盘和鼠标事件 \n",
    "        for event in pygame.event.get(): \n",
    "            if event.type == pygame.QUIT:\n",
    "                sys.exit()\n",
    "# 每次循环时都重绘屏幕\n",
    "        screen.fill(ai_settings.bg_color)\n",
    "# 让最近绘制的屏幕可见 \n",
    "        pygame.display.flip()\n",
    "run_game()"
   ]
  }
 ],
 "metadata": {
  "kernelspec": {
   "display_name": "Python 3",
   "language": "python",
   "name": "python3"
  },
  "language_info": {
   "codemirror_mode": {
    "name": "ipython",
    "version": 3
   },
   "file_extension": ".py",
   "mimetype": "text/x-python",
   "name": "python",
   "nbconvert_exporter": "python",
   "pygments_lexer": "ipython3",
   "version": "3.11.4"
  },
  "orig_nbformat": 4
 },
 "nbformat": 4,
 "nbformat_minor": 2
}
